{
 "cells": [
  {
   "cell_type": "code",
   "execution_count": 1,
   "metadata": {},
   "outputs": [],
   "source": [
    "import pandas as pd\n",
    "from sklearn.tree import DecisionTreeClassifier, export_graphviz\n",
    "from sklearn.feature_extraction import DictVectorizer\n",
    "from sklearn.model_selection import train_test_split"
   ]
  },
  {
   "cell_type": "code",
   "execution_count": 2,
   "metadata": {},
   "outputs": [],
   "source": [
    "tt = pd.read_csv('data/titanic.csv')\n",
    "# tt.head()\n",
    "\n",
    "\n",
    "# 判断哪些列存在缺失值\n",
    "# ret = pd.isnull(tt)  # 得到的是bool类型矩阵，表示某个位置是否是nan\n",
    "# ret = ret.any()  # 得到每个列是否存在nan的series\n",
    "# print(ret)\n",
    "# print(ret.values)  # values用于取出df中的数据，取出二维数组\n",
    "# print(tt.keys())  # 取出列名，即 index，也是index类型，类似列表\n",
    "# tt = tt[pd.isnull(tt).values == True]  # 取出values中为真的数据，也就是包含了nan的数据\n",
    "# tt = tt.drop_duplicates()  # 一行元素全部相同时才去除，可以指定参数进行去重\n",
    "# print(tt)\n"
   ]
  },
  {
   "cell_type": "code",
   "execution_count": 3,
   "metadata": {},
   "outputs": [
    {
     "name": "stderr",
     "output_type": "stream",
     "text": [
      "D:\\Anaconda\\lib\\site-packages\\ipykernel_launcher.py:3: SettingWithCopyWarning: \n",
      "A value is trying to be set on a copy of a slice from a DataFrame\n",
      "\n",
      "See the caveats in the documentation: https://pandas.pydata.org/pandas-docs/stable/user_guide/indexing.html#returning-a-view-versus-a-copy\n",
      "  This is separate from the ipykernel package so we can avoid doing imports until\n"
     ]
    }
   ],
   "source": [
    "# 取出与预测有关的特征值和目标值，特征值取出pclass,age,sex  目标值 survived\n",
    "# age缺失值以平均值进行填充\n",
    "tt['age'][pd.isnull(tt['age'])] = tt['age'].mean(axis=0)\n",
    "x = tt[['pclass', 'sex', 'age']]\n",
    "y = tt['survived']\n",
    "\n",
    "# 特征抽取，应当是以字典的形式进行转换\n",
    "x = x.to_dict(orient='records')  # records,整体构成一个列表，内层是将原始数据的每行提取出来形成字典"
   ]
  },
  {
   "cell_type": "code",
   "execution_count": 4,
   "metadata": {},
   "outputs": [],
   "source": [
    "# 划分数据集\n",
    "x_train, x_test, y_train, y_test = train_test_split(x, y, test_size=0.25, random_state=1)"
   ]
  },
  {
   "cell_type": "code",
   "execution_count": 5,
   "metadata": {},
   "outputs": [],
   "source": [
    "\n",
    "# print(len(x_train))\n",
    "dv = DictVectorizer(sparse=False)\n",
    "x_train = dv.fit_transform(x_train)\n",
    "x_test = dv.transform(x_test)\n",
    "# print(dv.get_feature_names())"
   ]
  },
  {
   "cell_type": "code",
   "execution_count": 6,
   "metadata": {},
   "outputs": [
    {
     "name": "stdout",
     "output_type": "stream",
     "text": [
      "['age', 'pclass=1st', 'pclass=2nd', 'pclass=3rd', 'sex=female', 'sex=male']\n",
      "[0.29939479 0.04678489 0.01126183 0.21328364 0.42927485 0.        ]\n",
      "测试集score 0.8115501519756839\n",
      "训练集score 0.8526422764227642\n"
     ]
    }
   ],
   "source": [
    "dt = DecisionTreeClassifier()\n",
    "dt.fit(x_train, y_train)\n",
    "print(dv.get_feature_names())\n",
    "print(dt.feature_importances_)\n",
    "\n",
    "\n",
    "y_pred = dt.predict(x_test)\n",
    "print('测试集score', dt.score(x_test, y_test))\n",
    "print('训练集score', dt.score(x_train, y_train))\n",
    "\n",
    "# export_graphviz(dt, out_file='./data/titanic.dot', feature_names=dv.get_feature_names(), class_names = ['die','alive'])\n",
    "\n",
    "\"\"\"\n",
    "Onenote机器学习中，决策树目录下有操作截图\n",
    "\n",
    "安装graphviz，cmd到生成\".dot\"目录下\n",
    "输入指令：dot -Tpng titanic.dot -o titanic_tree.png\n",
    "\n",
    "\"\"\""
   ]
  }
 ],
 "metadata": {
  "kernelspec": {
   "display_name": "Python 3",
   "language": "python",
   "name": "python3"
  },
  "language_info": {
   "codemirror_mode": {
    "name": "ipython",
    "version": 3
   },
   "file_extension": ".py",
   "mimetype": "text/x-python",
   "name": "python",
   "nbconvert_exporter": "python",
   "pygments_lexer": "ipython3",
   "version": "3.7.6"
  }
 },
 "nbformat": 4,
 "nbformat_minor": 4
}
