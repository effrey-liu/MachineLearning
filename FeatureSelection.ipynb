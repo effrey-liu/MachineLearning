{
 "cells": [
  {
   "cell_type": "markdown",
   "metadata": {},
   "source": [
    "# 特征选择"
   ]
  },
  {
   "cell_type": "code",
   "execution_count": 6,
   "metadata": {},
   "outputs": [
    {
     "name": "stdout",
     "output_type": "stream",
     "text": [
      "[[4 2]\n",
      " [1 8]\n",
      " [3 6]]\n",
      "[0.         1.55555556 6.22222222 0.        ]\n"
     ]
    }
   ],
   "source": [
    "from sklearn.feature_selection import VarianceThreshold\n",
    "from sklearn.preprocessing import StandardScaler\n",
    "\n",
    "var = VarianceThreshold()\n",
    "# help(VarianceThreshold)\n",
    "\n",
    "data = [\n",
    "    [0,4,2,7],\n",
    "    [0,1,8,7],\n",
    "    [0,3,6,7],\n",
    "]\n",
    "\n",
    "result = var.fit_transform(data)\n",
    "print(result)\n",
    "\n",
    "scaler = StandardScaler()\n",
    "result = scaler.fit_transform(data)\n",
    "print(scaler.var_) # 每一列方差值"
   ]
  },
  {
   "cell_type": "markdown",
   "metadata": {},
   "source": [
    "# PCA(主成分分析)"
   ]
  },
  {
   "cell_type": "code",
   "execution_count": 8,
   "metadata": {},
   "outputs": [
    {
     "data": {
      "text/plain": [
       "array([[-7.52302292e+01, -4.78269026e+01,  9.38513273e-15],\n",
       "       [ 1.30033573e+02, -5.28549520e+00,  9.38513273e-15],\n",
       "       [-5.48033442e+01,  5.31123978e+01,  9.38513273e-15]])"
      ]
     },
     "execution_count": 8,
     "metadata": {},
     "output_type": "execute_result"
    }
   ],
   "source": [
    "from sklearn.decomposition import PCA\n",
    "\n",
    "data = [\n",
    "    [4,2,76,9],\n",
    "    [1,192,1,56],\n",
    "    [34,5,20,90]\n",
    "]\n",
    "\n",
    "pca = PCA(n_components = 3)\n",
    "pca.fit_transform(data)"
   ]
  },
  {
   "cell_type": "code",
   "execution_count": null,
   "metadata": {},
   "outputs": [],
   "source": []
  }
 ],
 "metadata": {
  "kernelspec": {
   "display_name": "Python 3",
   "language": "python",
   "name": "python3"
  },
  "language_info": {
   "codemirror_mode": {
    "name": "ipython",
    "version": 3
   },
   "file_extension": ".py",
   "mimetype": "text/x-python",
   "name": "python",
   "nbconvert_exporter": "python",
   "pygments_lexer": "ipython3",
   "version": "3.7.6"
  }
 },
 "nbformat": 4,
 "nbformat_minor": 4
}
