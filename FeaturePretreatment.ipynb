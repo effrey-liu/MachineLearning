{
 "cells": [
  {
   "cell_type": "markdown",
   "metadata": {},
   "source": [
    "# 归一化"
   ]
  },
  {
   "cell_type": "code",
   "execution_count": 3,
   "metadata": {},
   "outputs": [
    {
     "name": "stdout",
     "output_type": "stream",
     "text": [
      "[[3.         0.90909091 3.        ]\n",
      " [2.28571429 1.36363636 0.        ]\n",
      " [0.         3.         0.63380282]\n",
      " [0.14285714 0.         1.30985915]]\n"
     ]
    }
   ],
   "source": [
    "from sklearn.preprocessing import MinMaxScaler\n",
    "\n",
    "scaler = MinMaxScaler(feature_range=(0,3)) #默认(0,1)\n",
    "data = [\n",
    "    [180,75,90],\n",
    "    [175,80,19],\n",
    "    [159,98,34],\n",
    "    [160,65,50]\n",
    "]\n",
    "\n",
    "result = scaler.fit_transform(data)\n",
    "print(result)"
   ]
  },
  {
   "cell_type": "markdown",
   "metadata": {},
   "source": [
    "# 标准化"
   ]
  },
  {
   "cell_type": "code",
   "execution_count": 4,
   "metadata": {},
   "outputs": [
    {
     "name": "stdout",
     "output_type": "stream",
     "text": [
      "[[ 1.25288983 -0.37598039  1.57666489]\n",
      " [ 0.70815512  0.0417756  -1.10460953]\n",
      " [-1.03499595  1.54569717 -0.53814311]\n",
      " [-0.92604901 -1.21149238  0.06608775]]\n"
     ]
    }
   ],
   "source": [
    "from sklearn.preprocessing import StandardScaler\n",
    "\n",
    "\n",
    "scaler = StandardScaler()\n",
    "result = scaler.fit_transform(data)\n",
    "print(result)"
   ]
  },
  {
   "cell_type": "markdown",
   "metadata": {},
   "source": [
    "# 缺失值处理"
   ]
  },
  {
   "cell_type": "code",
   "execution_count": 8,
   "metadata": {},
   "outputs": [
    {
     "name": "stdout",
     "output_type": "stream",
     "text": [
      "[[8.  9. ]\n",
      " [7.5 4. ]\n",
      " [7.  2. ]]\n"
     ]
    }
   ],
   "source": [
    "from sklearn.impute import SimpleImputer\n",
    "import numpy as np\n",
    "\n",
    "# help(SimpleImputer)\n",
    "data = [\n",
    "    [8,9],\n",
    "    [np.nan,4],   # 缺失值被该列平均值代替\n",
    "    [7,2]\n",
    "]\n",
    "\n",
    "si = SimpleImputer()\n",
    "result = si.fit_transform(data)\n",
    "print(result)"
   ]
  },
  {
   "cell_type": "code",
   "execution_count": null,
   "metadata": {},
   "outputs": [],
   "source": []
  },
  {
   "cell_type": "code",
   "execution_count": null,
   "metadata": {},
   "outputs": [],
   "source": []
  }
 ],
 "metadata": {
  "kernelspec": {
   "display_name": "Python 3",
   "language": "python",
   "name": "python3"
  },
  "language_info": {
   "codemirror_mode": {
    "name": "ipython",
    "version": 3
   },
   "file_extension": ".py",
   "mimetype": "text/x-python",
   "name": "python",
   "nbconvert_exporter": "python",
   "pygments_lexer": "ipython3",
   "version": "3.7.6"
  }
 },
 "nbformat": 4,
 "nbformat_minor": 4
}
