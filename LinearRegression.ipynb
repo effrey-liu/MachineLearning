{
 "cells": [
  {
   "cell_type": "code",
   "execution_count": 8,
   "metadata": {},
   "outputs": [],
   "source": [
    "from sklearn.datasets import load_boston\n",
    "from sklearn.linear_model import LinearRegression,SGDRegressor\n",
    "from sklearn.preprocessing import StandardScaler\n",
    "from sklearn.model_selection import train_test_split\n",
    "from sklearn.metrics import mean_absolute_error,mean_squared_error"
   ]
  },
  {
   "cell_type": "code",
   "execution_count": 3,
   "metadata": {},
   "outputs": [],
   "source": [
    "boston = load_boston()"
   ]
  },
  {
   "cell_type": "code",
   "execution_count": 5,
   "metadata": {},
   "outputs": [],
   "source": [
    "features = boston.data\n",
    "scaler = StandardScaler()\n",
    "features = scaler.fit_transform(features)\n",
    "targets = boston.target\n"
   ]
  },
  {
   "cell_type": "code",
   "execution_count": 6,
   "metadata": {},
   "outputs": [],
   "source": [
    "x_train,x_test,y_train,y_test = train_test_split(features,targets,test_size = 0.25) #x特征值，y目标值，分成训练集和测试集"
   ]
  },
  {
   "cell_type": "markdown",
   "metadata": {},
   "source": [
    "**数据量较小时，一般采用正规方程，数据量大于10w时，采用SGD方式**"
   ]
  },
  {
   "cell_type": "code",
   "execution_count": 20,
   "metadata": {},
   "outputs": [
    {
     "name": "stdout",
     "output_type": "stream",
     "text": [
      "平均误差为： 3.280709526470819\n",
      "均方误差为： 24.069841108453005\n"
     ]
    }
   ],
   "source": [
    "linear = LinearRegression()\n",
    "linear.fit(x_train,y_train)\n",
    "y_predict = linear.predict(x_test)  \n",
    "\"\"\"\n",
    "预测线性回归模型中，特征值x对应的目标值，方便后续与原本数据集的目标值进行误差运算\n",
    "\n",
    "\"\"\"\n",
    "print(\"平均误差为：\",mean_absolute_error(y_test,y_predict))\n",
    "print(\"均方误差为：\",mean_squared_error(y_test,y_predict))"
   ]
  },
  {
   "cell_type": "code",
   "execution_count": 26,
   "metadata": {},
   "outputs": [
    {
     "name": "stdout",
     "output_type": "stream",
     "text": [
      "平均误差为： 3.2736740909148776\n",
      "均方误差为： 24.365953939507182\n",
      "[-0.77094154  0.70178739 -0.16878273  0.80755049 -2.13454291  3.04921602\n",
      " -0.07626383 -3.14481055  1.59617134 -1.17150267 -2.11813023  0.90973757\n",
      " -3.37372923]\n",
      "[22.38807547]\n"
     ]
    }
   ],
   "source": [
    "sgd = SGDRegressor()\n",
    "sgd.fit(x_train,y_train)\n",
    "y_predict = sgd.predict(x_test)  \n",
    "\"\"\"\n",
    "预测回归模型中，特征值x对应的目标值，方便后续与原本数据集的目标值进行误差运算\n",
    "\n",
    "\"\"\"\n",
    "print(\"平均误差为：\",mean_absolute_error(y_test,y_predict))\n",
    "print(\"均方误差为：\",mean_squared_error(y_test,y_predict))\n",
    "# dir(sgd)# sgd所包含的属性\n",
    "print(sgd.coef_) # 模型中每一个θ值\n",
    "print(sgd.intercept_) # 偏移量"
   ]
  },
  {
   "cell_type": "code",
   "execution_count": 24,
   "metadata": {},
   "outputs": [
    {
     "name": "stdout",
     "output_type": "stream",
     "text": [
      "平均误差为： 3.280709526470819\n",
      "均方误差为： 24.069841108453005\n"
     ]
    }
   ],
   "source": [
    "from sklearn.linear_model import Ridge\n",
    "ridge = Ridge(alpha=100)\n",
    "ridge.fit(x_train,y_train)\n",
    "y_redict = ridge.predict(x_test)\n",
    "print(\"平均误差为：\",mean_absolute_error(y_test,y_predict))\n",
    "print(\"均方误差为：\",mean_squared_error(y_test,y_predict))"
   ]
  },
  {
   "cell_type": "markdown",
   "metadata": {},
   "source": []
  }
 ],
 "metadata": {
  "kernelspec": {
   "display_name": "Python 3",
   "language": "python",
   "name": "python3"
  },
  "language_info": {
   "codemirror_mode": {
    "name": "ipython",
    "version": 3
   },
   "file_extension": ".py",
   "mimetype": "text/x-python",
   "name": "python",
   "nbconvert_exporter": "python",
   "pygments_lexer": "ipython3",
   "version": "3.7.6"
  }
 },
 "nbformat": 4,
 "nbformat_minor": 4
}
